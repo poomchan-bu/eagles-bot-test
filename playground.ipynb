{
 "cells": [
  {
   "cell_type": "code",
   "execution_count": 1,
   "metadata": {},
   "outputs": [],
   "source": [
    "from dotenv import load_dotenv\n",
    "load_dotenv()\n",
    "import streamlit as st\n",
    "from langchain.document_loaders.csv_loader import CSVLoader\n",
    "from langchain_chroma import Chroma\n",
    "from langchain_openai import OpenAIEmbeddings, ChatOpenAI\n",
    "from langchain_core.prompts import ChatPromptTemplate\n",
    "from langchain_core.messages import HumanMessage, SystemMessage\n",
    "from langchain_core.output_parsers import StrOutputParser\n",
    "from langchain.prompts import PromptTemplate\n",
    "from langchain.retrievers.self_query.base import SelfQueryRetriever \n",
    "from langchain.chains.query_constructor.base import AttributeInfo\n",
    "from langchain_core.chat_history import BaseChatMessageHistory, InMemoryChatMessageHistory\n",
    "from langchain_core.runnables.history import RunnableWithMessageHistory\n",
    "from langchain_core.output_parsers import StrOutputParser\n",
    "from langchain_core.runnables import RunnablePassthrough\n",
    "import pandas as pd"
   ]
  },
  {
   "cell_type": "code",
   "execution_count": 2,
   "metadata": {},
   "outputs": [
    {
     "data": {
      "text/html": [
       "<div>\n",
       "<style scoped>\n",
       "    .dataframe tbody tr th:only-of-type {\n",
       "        vertical-align: middle;\n",
       "    }\n",
       "\n",
       "    .dataframe tbody tr th {\n",
       "        vertical-align: top;\n",
       "    }\n",
       "\n",
       "    .dataframe thead th {\n",
       "        text-align: right;\n",
       "    }\n",
       "</style>\n",
       "<table border=\"1\" class=\"dataframe\">\n",
       "  <thead>\n",
       "    <tr style=\"text-align: right;\">\n",
       "      <th></th>\n",
       "      <th>course_id</th>\n",
       "      <th>course_name</th>\n",
       "      <th>credit</th>\n",
       "      <th>description</th>\n",
       "      <th>is_active</th>\n",
       "      <th>department</th>\n",
       "      <th>workload_score</th>\n",
       "      <th>difficulty_level</th>\n",
       "      <th>is_prerequisite</th>\n",
       "      <th>prerequisite</th>\n",
       "    </tr>\n",
       "  </thead>\n",
       "  <tbody>\n",
       "    <tr>\n",
       "      <th>0</th>\n",
       "      <td>521</td>\n",
       "      <td>Information Structures with Python</td>\n",
       "      <td>4.0</td>\n",
       "      <td>This course covers the concepts of the object-...</td>\n",
       "      <td>True</td>\n",
       "      <td>cs</td>\n",
       "      <td>5</td>\n",
       "      <td>3</td>\n",
       "      <td>True</td>\n",
       "      <td>NaN</td>\n",
       "    </tr>\n",
       "    <tr>\n",
       "      <th>1</th>\n",
       "      <td>526</td>\n",
       "      <td>Data Structure and Algorithms</td>\n",
       "      <td>4.0</td>\n",
       "      <td>This course covers and relates fundamental com...</td>\n",
       "      <td>True</td>\n",
       "      <td>cs</td>\n",
       "      <td>5</td>\n",
       "      <td>5</td>\n",
       "      <td>True</td>\n",
       "      <td>MET CS 300 and either MET CS 520 or MET CS 521</td>\n",
       "    </tr>\n",
       "    <tr>\n",
       "      <th>2</th>\n",
       "      <td>622</td>\n",
       "      <td>Advanced Programming Techniques</td>\n",
       "      <td>4.0</td>\n",
       "      <td>Polymorphism, containers, libraries, method sp...</td>\n",
       "      <td>True</td>\n",
       "      <td>cs</td>\n",
       "      <td>5</td>\n",
       "      <td>4</td>\n",
       "      <td>False</td>\n",
       "      <td>MET CS 342, 521, or 526</td>\n",
       "    </tr>\n",
       "    <tr>\n",
       "      <th>3</th>\n",
       "      <td>665</td>\n",
       "      <td>Software Design and Patterns</td>\n",
       "      <td>4.0</td>\n",
       "      <td>Software design principles, the object-oriente...</td>\n",
       "      <td>True</td>\n",
       "      <td>cs</td>\n",
       "      <td>5</td>\n",
       "      <td>4</td>\n",
       "      <td>False</td>\n",
       "      <td>MET CS 341 or 342 and MET CS 565, MET CS 526 o...</td>\n",
       "    </tr>\n",
       "    <tr>\n",
       "      <th>4</th>\n",
       "      <td>673</td>\n",
       "      <td>Software Engineering</td>\n",
       "      <td>4.0</td>\n",
       "      <td>Overview of techniques and tools to develop hi...</td>\n",
       "      <td>True</td>\n",
       "      <td>cs</td>\n",
       "      <td>5</td>\n",
       "      <td>3</td>\n",
       "      <td>False</td>\n",
       "      <td>MET CS 342 and at least one 500-level computer...</td>\n",
       "    </tr>\n",
       "  </tbody>\n",
       "</table>\n",
       "</div>"
      ],
      "text/plain": [
       "   course_id                         course_name  credit  \\\n",
       "0        521  Information Structures with Python     4.0   \n",
       "1        526       Data Structure and Algorithms     4.0   \n",
       "2        622     Advanced Programming Techniques     4.0   \n",
       "3        665        Software Design and Patterns     4.0   \n",
       "4        673                Software Engineering     4.0   \n",
       "\n",
       "                                         description  is_active department  \\\n",
       "0  This course covers the concepts of the object-...       True         cs   \n",
       "1  This course covers and relates fundamental com...       True         cs   \n",
       "2  Polymorphism, containers, libraries, method sp...       True         cs   \n",
       "3  Software design principles, the object-oriente...       True         cs   \n",
       "4  Overview of techniques and tools to develop hi...       True         cs   \n",
       "\n",
       "   workload_score  difficulty_level  is_prerequisite  \\\n",
       "0               5                 3             True   \n",
       "1               5                 5             True   \n",
       "2               5                 4            False   \n",
       "3               5                 4            False   \n",
       "4               5                 3            False   \n",
       "\n",
       "                                        prerequisite  \n",
       "0                                                NaN  \n",
       "1     MET CS 300 and either MET CS 520 or MET CS 521  \n",
       "2                            MET CS 342, 521, or 526  \n",
       "3  MET CS 341 or 342 and MET CS 565, MET CS 526 o...  \n",
       "4  MET CS 342 and at least one 500-level computer...  "
      ]
     },
     "execution_count": 2,
     "metadata": {},
     "output_type": "execute_result"
    }
   ],
   "source": [
    "df = pd.read_csv(\"courses.csv\")\n",
    "df.head()"
   ]
  },
  {
   "cell_type": "code",
   "execution_count": 14,
   "metadata": {},
   "outputs": [
    {
     "name": "stderr",
     "output_type": "stream",
     "text": [
      "/var/folders/sf/t4mz6hxd5r57wc_lz4mv89v80000gn/T/ipykernel_52049/2864950947.py:2: SettingWithCopyWarning: \n",
      "A value is trying to be set on a copy of a slice from a DataFrame.\n",
      "Try using .loc[row_indexer,col_indexer] = value instead\n",
      "\n",
      "See the caveats in the documentation: https://pandas.pydata.org/pandas-docs/stable/user_guide/indexing.html#returning-a-view-versus-a-copy\n",
      "  df2[\"course_id\"] = \"CS\" + df2[\"course_id\"].astype(str)\n"
     ]
    },
    {
     "data": {
      "text/html": [
       "<div>\n",
       "<style scoped>\n",
       "    .dataframe tbody tr th:only-of-type {\n",
       "        vertical-align: middle;\n",
       "    }\n",
       "\n",
       "    .dataframe tbody tr th {\n",
       "        vertical-align: top;\n",
       "    }\n",
       "\n",
       "    .dataframe thead th {\n",
       "        text-align: right;\n",
       "    }\n",
       "</style>\n",
       "<table border=\"1\" class=\"dataframe\">\n",
       "  <thead>\n",
       "    <tr style=\"text-align: right;\">\n",
       "      <th></th>\n",
       "      <th>course_id</th>\n",
       "      <th>course_name</th>\n",
       "      <th>credit</th>\n",
       "    </tr>\n",
       "  </thead>\n",
       "  <tbody>\n",
       "    <tr>\n",
       "      <th>0</th>\n",
       "      <td>CS521</td>\n",
       "      <td>Information Structures with Python</td>\n",
       "      <td>4.0</td>\n",
       "    </tr>\n",
       "    <tr>\n",
       "      <th>1</th>\n",
       "      <td>CS526</td>\n",
       "      <td>Data Structure and Algorithms</td>\n",
       "      <td>4.0</td>\n",
       "    </tr>\n",
       "    <tr>\n",
       "      <th>2</th>\n",
       "      <td>CS622</td>\n",
       "      <td>Advanced Programming Techniques</td>\n",
       "      <td>4.0</td>\n",
       "    </tr>\n",
       "    <tr>\n",
       "      <th>3</th>\n",
       "      <td>CS665</td>\n",
       "      <td>Software Design and Patterns</td>\n",
       "      <td>4.0</td>\n",
       "    </tr>\n",
       "    <tr>\n",
       "      <th>4</th>\n",
       "      <td>CS673</td>\n",
       "      <td>Software Engineering</td>\n",
       "      <td>4.0</td>\n",
       "    </tr>\n",
       "  </tbody>\n",
       "</table>\n",
       "</div>"
      ],
      "text/plain": [
       "  course_id                         course_name  credit\n",
       "0     CS521  Information Structures with Python     4.0\n",
       "1     CS526       Data Structure and Algorithms     4.0\n",
       "2     CS622     Advanced Programming Techniques     4.0\n",
       "3     CS665        Software Design and Patterns     4.0\n",
       "4     CS673                Software Engineering     4.0"
      ]
     },
     "execution_count": 14,
     "metadata": {},
     "output_type": "execute_result"
    }
   ],
   "source": [
    "df2 = df[[\"course_id\", \"course_name\", \"credit\"]]\n",
    "df2[\"course_id\"] = \"CS\" + df2[\"course_id\"].astype(str)\n",
    "\n",
    "df2.to_csv(\"course_short.csv\", index=False)\n",
    "df2.head()"
   ]
  },
  {
   "cell_type": "code",
   "execution_count": 3,
   "metadata": {},
   "outputs": [],
   "source": [
    "loader = CSVLoader(file_path=\"courses.csv\", \n",
    "                #    metadata_columns=['course_id'], \n",
    "                   encoding=\"utf-8-sig\")\n",
    "documents = loader.load()\n",
    "vectorstore = Chroma.from_documents(documents, OpenAIEmbeddings())\n",
    "retriever = vectorstore.as_retriever()"
   ]
  },
  {
   "cell_type": "code",
   "execution_count": 4,
   "metadata": {},
   "outputs": [],
   "source": [
    "# metadata_field_info = [\n",
    "#     AttributeInfo(\n",
    "#         name=\"course_id\",\n",
    "#         description=\"The course id number that has 100, 200, 300, 400, 500, 600, and 700 level\",\n",
    "#         type=\"string\",\n",
    "#     ),\n",
    "#     AttributeInfo(\n",
    "#         name=\"course_name\",\n",
    "#         description=\"The name of the course\",\n",
    "#         type=\"integer\",\n",
    "#     ),\n",
    "#     AttributeInfo(\n",
    "#         name=\"credit\",\n",
    "#         description=\"The amount of credits form taking the course\",\n",
    "#         type=\"string\",\n",
    "#     ),\n",
    "#     AttributeInfo(\n",
    "#         name=\"is_active\", \n",
    "#         description=\"The availability status of the course in that semester\", \n",
    "#         type=\"boolean\"\n",
    "#     ),\n",
    "#     AttributeInfo(\n",
    "#         name=\"department\", \n",
    "#         description=\"The department that offers the course\", \n",
    "#         type=\"string\"\n",
    "#     ),\n",
    "#     AttributeInfo(\n",
    "#         name=\"workload_score\", \n",
    "#         description=\"The amout of time and effort to complete the homework range from 1-5\", \n",
    "#         type=\"integer\"\n",
    "#     ),\n",
    "#     AttributeInfo(\n",
    "#         name=\"difficulty_level\", \n",
    "#         description=\"The level of diffuculty to complete the course range from 1-5\", \n",
    "#         type=\"integer\"\n",
    "#     ),\n",
    "#     AttributeInfo(\n",
    "#         name=\"is_prerequisite\", \n",
    "#         description=\"Is the course a prerequisite of other courses\", \n",
    "#         type=\"boolean\"\n",
    "#     ),\n",
    "# ]\n",
    "\n",
    "# document_content_description = \"A detailed description of the course\"\n",
    "\n",
    "# llm = ChatOpenAI(temperature=0, \n",
    "#                    model=\"gpt-3.5-turbo\",\n",
    "#                    max_tokens=None,\n",
    "#                    timeout=None,\n",
    "#                    max_retries=2,\n",
    "#                    )\n",
    "\n",
    "# self_query_retriever = SelfQueryRetriever.from_llm(\n",
    "#     llm,\n",
    "#     vectorstore,\n",
    "#     document_content_description,\n",
    "#     metadata_field_info,\n",
    "#     search_kwargs={'k': 3, 'filter': {'course_id': '521'}}\n",
    "# )"
   ]
  },
  {
   "cell_type": "code",
   "execution_count": 4,
   "metadata": {},
   "outputs": [
    {
     "data": {
      "text/plain": [
       "[]"
      ]
     },
     "execution_count": 4,
     "metadata": {},
     "output_type": "execute_result"
    }
   ],
   "source": [
    "retriever = vectorstore.as_retriever(search_kwargs={'k': 10, 'filter': {'course_id': '521'}})\n",
    "retriever.invoke(\"easy class\")"
   ]
  },
  {
   "cell_type": "code",
   "execution_count": 7,
   "metadata": {},
   "outputs": [
    {
     "data": {
      "text/plain": [
       "[Document(metadata={'course_id': '521', 'course_name': 'Information Structures with Python', 'credit': '4', 'department': 'cs', 'difficulty_level': '3', 'is_active': 'TRUE', 'is_prerequisite': 'TRUE', 'row': 0, 'source': 'courses.csv', 'workload_score': '5'}, page_content='description: This course covers the concepts of the object-oriented approach to software design and development using Python. It includes a detailed discussion of programming concepts starting with the fundamentals of data types, control structures methods, classes, arrays and strings, and proceeding to advanced topics such as inheritance and polymorphism, creating user interfaces, exceptions and streams. Upon completion of this course students will be able to apply software engineering principles to design and implement Python applications that can be used in with analytics and big data.\\nprerequisite: None')]"
      ]
     },
     "execution_count": 7,
     "metadata": {},
     "output_type": "execute_result"
    }
   ],
   "source": [
    "vectorstore.similarity_search(\"521\", filter={'course_id': '521'})"
   ]
  },
  {
   "cell_type": "code",
   "execution_count": 5,
   "metadata": {},
   "outputs": [],
   "source": [
    "llm = ChatOpenAI(temperature=0, \n",
    "                   model=\"gpt-3.5-turbo\",\n",
    "                   max_tokens=None,\n",
    "                   timeout=None,\n",
    "                   max_retries=2,\n",
    "                   )"
   ]
  },
  {
   "cell_type": "code",
   "execution_count": 6,
   "metadata": {},
   "outputs": [],
   "source": [
    "system_prompt = \"\"\"\n",
    "You are a student advisor\n",
    "You will give the class information based on the quiestion that a student ask\n",
    "Be aware, the students usually call the course as department+course_id such as CS546\n",
    "\n",
    "\"\\n\\n\"\n",
    "Context:\n",
    "\"{context}\"\n",
    "\"\"\"\n",
    "\n",
    "prompt = ChatPromptTemplate.from_messages(\n",
    "    [\n",
    "        (\"system\", system_prompt),\n",
    "        (\"human\", \"{input}\"),\n",
    "    ]\n",
    ")\n",
    "\n",
    "parser = StrOutputParser()"
   ]
  },
  {
   "cell_type": "code",
   "execution_count": 7,
   "metadata": {},
   "outputs": [
    {
     "name": "stdout",
     "output_type": "stream",
     "text": [
      "Yes, there are several courses that focus on data structures. In the Computer Science department, you can take courses like CS210 - Data Structures and Algorithms, CS310 - Advanced Data Structures, or CS546 - Data Structures and Analysis of Algorithms. These courses will cover topics such as arrays, linked lists, stacks, queues, trees, graphs, and algorithms for manipulating these data structures. I recommend checking the course catalog for more information on specific offerings and prerequisites."
     ]
    }
   ],
   "source": [
    "rag_chain =  prompt | llm | parser\n",
    "\n",
    "# rag_chain = prompt | llm\n",
    "\n",
    "# for chunk in rag_chain.stream(\"Is there any Data strucure classes?\"):\n",
    "#     print(chunk, end=\"\", flush=True)\n",
    "\n",
    "input = \"Is there any Data strucure classes?\"\n",
    "context = retriever.invoke(input)\n",
    "\n",
    "for chunk in rag_chain.stream({\"input\": input, \"context\": context}):\n",
    "    print(chunk, end=\"\", flush=True)"
   ]
  },
  {
   "cell_type": "code",
   "execution_count": 16,
   "metadata": {},
   "outputs": [
    {
     "name": "stdout",
     "output_type": "stream",
     "text": [
      "You just asked for information about a specific course in the Computer Science department."
     ]
    }
   ],
   "source": [
    "input = \"What did I just ask?\"\n",
    "\n",
    "for chunk in rag_chain.stream({\"input\": input, \"context\": context}):\n",
    "    print(chunk, end=\"\", flush=True)"
   ]
  },
  {
   "cell_type": "code",
   "execution_count": 8,
   "metadata": {},
   "outputs": [],
   "source": [
    "store = {}\n",
    "\n",
    "def get_session_history(session_id: str) -> BaseChatMessageHistory:\n",
    "    if session_id not in store:\n",
    "        store[session_id] = InMemoryChatMessageHistory()\n",
    "    return store[session_id]\n",
    "\n",
    "with_message_history = RunnableWithMessageHistory(rag_chain, \n",
    "                                                  get_session_history,\n",
    "                                                  input_messages_key=\"input\"\n",
    "                                                  )"
   ]
  },
  {
   "cell_type": "code",
   "execution_count": 9,
   "metadata": {},
   "outputs": [
    {
     "name": "stdout",
     "output_type": "stream",
     "text": [
      "Yes, there are Python courses offered in the Computer Science department. You can enroll in courses like CS101 - Introduction to Python Programming or CS546 - Advanced Python Programming. These courses will cover various aspects of Python programming language and help you develop your skills in Python."
     ]
    }
   ],
   "source": [
    "config = {\"configurable\": {\"session_id\": \"003\"}}\n",
    "input = \"Is there any Python courses?\"\n",
    "context = retriever.invoke(input)\n",
    "\n",
    "# response = with_message_history.invoke(\n",
    "#     {\"input\": input, \"context\": context},\n",
    "#     config=config,\n",
    "# )\n",
    "\n",
    "for chunk in with_message_history.stream({\"input\": input, \"context\": context}, config=config):\n",
    "    print(chunk, end=\"\", flush=True)\n"
   ]
  },
  {
   "cell_type": "code",
   "execution_count": 10,
   "metadata": {},
   "outputs": [
    {
     "name": "stdout",
     "output_type": "stream",
     "text": [
      "You asked if there are any Python courses available."
     ]
    }
   ],
   "source": [
    "config = {\"configurable\": {\"session_id\": \"003\"}}\n",
    "input = \"What did I just ask?\"\n",
    "context = None\n",
    "\n",
    "for chunk in with_message_history.stream({\"input\": input, \"context\": context}, config=config):\n",
    "    print(chunk, end=\"\", flush=True)"
   ]
  },
  {
   "cell_type": "code",
   "execution_count": 32,
   "metadata": {},
   "outputs": [
    {
     "name": "stderr",
     "output_type": "stream",
     "text": [
      "2024-09-12 14:27:23.881 WARNING streamlit.runtime.scriptrunner_utils.script_run_context: Thread 'MainThread': missing ScriptRunContext! This warning can be ignored when running in bare mode.\n",
      "2024-09-12 14:27:23.881 WARNING streamlit.runtime.scriptrunner_utils.script_run_context: Thread 'MainThread': missing ScriptRunContext! This warning can be ignored when running in bare mode.\n",
      "2024-09-12 14:27:23.955 \n",
      "  \u001b[33m\u001b[1mWarning:\u001b[0m to view this Streamlit app on a browser, run it with the following\n",
      "  command:\n",
      "\n",
      "    streamlit run /opt/miniconda3/envs/eagle-llm/lib/python3.12/site-packages/ipykernel_launcher.py [ARGUMENTS]\n",
      "2024-09-12 14:27:23.957 Thread 'MainThread': missing ScriptRunContext! This warning can be ignored when running in bare mode.\n",
      "2024-09-12 14:27:23.958 Thread 'MainThread': missing ScriptRunContext! This warning can be ignored when running in bare mode.\n",
      "2024-09-12 14:27:23.959 Thread 'MainThread': missing ScriptRunContext! This warning can be ignored when running in bare mode.\n",
      "2024-09-12 14:27:23.959 Thread 'MainThread': missing ScriptRunContext! This warning can be ignored when running in bare mode.\n",
      "2024-09-12 14:27:23.960 Session state does not function when running a script without `streamlit run`\n",
      "2024-09-12 14:27:23.960 Thread 'MainThread': missing ScriptRunContext! This warning can be ignored when running in bare mode.\n",
      "2024-09-12 14:27:23.960 Thread 'MainThread': missing ScriptRunContext! This warning can be ignored when running in bare mode.\n"
     ]
    }
   ],
   "source": [
    "st.set_page_config(\n",
    "    page_title=\"Customer response generator\", page_icon=\":bird:\")\n",
    "\n",
    "st.header(\"Customer response generator :bird:\")\n",
    "message = st.text_area(\"customer message\")\n",
    "\n",
    "if message:\n",
    "    st.write(\"Generating best practice message...\")\n",
    "\n",
    "    response = with_message_history.invoke(\n",
    "        {\"input\": message, \"context\": context},\n",
    "        config=config,\n",
    "    )\n",
    "\n",
    "    st.info(response)\n"
   ]
  },
  {
   "cell_type": "code",
   "execution_count": null,
   "metadata": {},
   "outputs": [],
   "source": []
  }
 ],
 "metadata": {
  "kernelspec": {
   "display_name": "eagle-llm",
   "language": "python",
   "name": "python3"
  },
  "language_info": {
   "codemirror_mode": {
    "name": "ipython",
    "version": 3
   },
   "file_extension": ".py",
   "mimetype": "text/x-python",
   "name": "python",
   "nbconvert_exporter": "python",
   "pygments_lexer": "ipython3",
   "version": "3.12.6"
  }
 },
 "nbformat": 4,
 "nbformat_minor": 2
}
